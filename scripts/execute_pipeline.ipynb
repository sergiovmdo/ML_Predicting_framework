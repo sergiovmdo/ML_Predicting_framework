{
 "cells": [
  {
   "cell_type": "code",
   "id": "initial_id",
   "metadata": {
    "collapsed": true,
    "ExecuteTime": {
     "end_time": "2025-04-28T15:19:00.003076Z",
     "start_time": "2025-04-28T15:18:56.875681Z"
    }
   },
   "source": [
    "import pandas as pd\n",
    "import sys, subprocess, json\n",
    "import main\n",
    "import os"
   ],
   "outputs": [],
   "execution_count": 1
  },
  {
   "metadata": {
    "ExecuteTime": {
     "end_time": "2025-04-28T15:21:30.122521Z",
     "start_time": "2025-04-28T15:21:30.119242Z"
    }
   },
   "cell_type": "code",
   "source": [
    "parameters = {\n",
    "    \"target\": \"Response\",\n",
    "    \"scaler\": \"min_max\",\n",
    "    \"features\": \"\",\n",
    "    \"feature_selector\": \"\",\n",
    "    \"num_features\": 10,\n",
    "    \"encoder\": \"one_hot\",\n",
    "    \"class_balancer\": \"\",\n",
    "    \"imputer\": \"\",\n",
    "    \"evaluation_technique\": 'train_test',\n",
    "    \"model\": \"random_forest\",\n",
    "    \"enable_parameter_search\": False,\n",
    "    \"splitting_runs\": 1000,\n",
    "    \"bootstrap_runs\": 100,\n",
    "    \"plot_mean_roc\": True,\n",
    "    \"roc_color\": \"\",\n",
    "    \"output_folder\": \"test_models\"\n",
    "}"
   ],
   "id": "b0ac7b23ffc23519",
   "outputs": [],
   "execution_count": 13
  },
  {
   "metadata": {
    "ExecuteTime": {
     "end_time": "2025-04-28T15:19:41.616053Z",
     "start_time": "2025-04-28T15:19:41.611280Z"
    }
   },
   "cell_type": "code",
   "source": [
    "model_variables = {\"test\": [\"Top10up\", \"Top10dn\", \"WNT\", \"KRT\", \"EMC\", \"GROWTH_FACTOR\"],\n",
    "                    }"
   ],
   "id": "ec8f58a4cbd9f373",
   "outputs": [],
   "execution_count": 8
  },
  {
   "metadata": {
    "ExecuteTime": {
     "end_time": "2025-04-28T15:19:00.283901Z",
     "start_time": "2025-04-28T15:19:00.269222Z"
    }
   },
   "cell_type": "code",
   "source": "test = pd.read_csv(r\"C:\\Users\\sv24v923\\Desktop\\Sergio_GSVAsignatures\\RNAseq_signatures_GSVA_FIS.csv\")",
   "id": "314d154d6aed8918",
   "outputs": [],
   "execution_count": 4
  },
  {
   "metadata": {
    "ExecuteTime": {
     "end_time": "2025-04-28T15:19:00.317803Z",
     "start_time": "2025-04-28T15:19:00.303584Z"
    }
   },
   "cell_type": "code",
   "source": "test",
   "id": "6dbcd3414768d9e4",
   "outputs": [
    {
     "data": {
      "text/plain": [
       "     Top10up   Top10dn       WNT Response Dataset SampleName       KRT  \\\n",
       "0  -0.035169  0.211243  0.405210        R     FIS      R100R  0.025318   \n",
       "1  -0.203219 -0.184823  0.466292       NR     FIS      R102R -0.577984   \n",
       "2  -0.279403  0.105672 -0.214094       NR     FIS      R104R -0.398666   \n",
       "3   0.027267 -0.280819 -0.094666       NR     FIS      R105R -0.426605   \n",
       "4  -0.093699  0.126892  0.189648       NR     FIS      R111R -0.095769   \n",
       "..       ...       ...       ...      ...     ...        ...       ...   \n",
       "66  0.156780 -0.573872 -0.335692        R     FIS       R96R -0.599649   \n",
       "67  0.065437  0.105485 -0.183075        R     FIS       R97R -0.230045   \n",
       "68  0.039873 -0.568414  0.205384        R     FIS       R92R -0.641606   \n",
       "69 -0.473582  0.394882  0.490315       NR     FIS      R103R  0.433912   \n",
       "70 -0.345876 -0.427515  0.186776        R     FIS       R62R -0.145531   \n",
       "\n",
       "         EMC  GROWTH_FACTOR  \n",
       "0   0.861767      -0.718432  \n",
       "1  -0.097127      -0.068514  \n",
       "2  -0.449191      -0.247194  \n",
       "3   0.012335       0.004505  \n",
       "4  -0.305090      -0.652146  \n",
       "..       ...            ...  \n",
       "66 -0.614096       0.002843  \n",
       "67 -0.188244       0.230772  \n",
       "68 -0.060020       0.205691  \n",
       "69 -0.062188       0.257282  \n",
       "70 -0.646110      -0.011806  \n",
       "\n",
       "[71 rows x 9 columns]"
      ],
      "text/html": [
       "<div>\n",
       "<style scoped>\n",
       "    .dataframe tbody tr th:only-of-type {\n",
       "        vertical-align: middle;\n",
       "    }\n",
       "\n",
       "    .dataframe tbody tr th {\n",
       "        vertical-align: top;\n",
       "    }\n",
       "\n",
       "    .dataframe thead th {\n",
       "        text-align: right;\n",
       "    }\n",
       "</style>\n",
       "<table border=\"1\" class=\"dataframe\">\n",
       "  <thead>\n",
       "    <tr style=\"text-align: right;\">\n",
       "      <th></th>\n",
       "      <th>Top10up</th>\n",
       "      <th>Top10dn</th>\n",
       "      <th>WNT</th>\n",
       "      <th>Response</th>\n",
       "      <th>Dataset</th>\n",
       "      <th>SampleName</th>\n",
       "      <th>KRT</th>\n",
       "      <th>EMC</th>\n",
       "      <th>GROWTH_FACTOR</th>\n",
       "    </tr>\n",
       "  </thead>\n",
       "  <tbody>\n",
       "    <tr>\n",
       "      <th>0</th>\n",
       "      <td>-0.035169</td>\n",
       "      <td>0.211243</td>\n",
       "      <td>0.405210</td>\n",
       "      <td>R</td>\n",
       "      <td>FIS</td>\n",
       "      <td>R100R</td>\n",
       "      <td>0.025318</td>\n",
       "      <td>0.861767</td>\n",
       "      <td>-0.718432</td>\n",
       "    </tr>\n",
       "    <tr>\n",
       "      <th>1</th>\n",
       "      <td>-0.203219</td>\n",
       "      <td>-0.184823</td>\n",
       "      <td>0.466292</td>\n",
       "      <td>NR</td>\n",
       "      <td>FIS</td>\n",
       "      <td>R102R</td>\n",
       "      <td>-0.577984</td>\n",
       "      <td>-0.097127</td>\n",
       "      <td>-0.068514</td>\n",
       "    </tr>\n",
       "    <tr>\n",
       "      <th>2</th>\n",
       "      <td>-0.279403</td>\n",
       "      <td>0.105672</td>\n",
       "      <td>-0.214094</td>\n",
       "      <td>NR</td>\n",
       "      <td>FIS</td>\n",
       "      <td>R104R</td>\n",
       "      <td>-0.398666</td>\n",
       "      <td>-0.449191</td>\n",
       "      <td>-0.247194</td>\n",
       "    </tr>\n",
       "    <tr>\n",
       "      <th>3</th>\n",
       "      <td>0.027267</td>\n",
       "      <td>-0.280819</td>\n",
       "      <td>-0.094666</td>\n",
       "      <td>NR</td>\n",
       "      <td>FIS</td>\n",
       "      <td>R105R</td>\n",
       "      <td>-0.426605</td>\n",
       "      <td>0.012335</td>\n",
       "      <td>0.004505</td>\n",
       "    </tr>\n",
       "    <tr>\n",
       "      <th>4</th>\n",
       "      <td>-0.093699</td>\n",
       "      <td>0.126892</td>\n",
       "      <td>0.189648</td>\n",
       "      <td>NR</td>\n",
       "      <td>FIS</td>\n",
       "      <td>R111R</td>\n",
       "      <td>-0.095769</td>\n",
       "      <td>-0.305090</td>\n",
       "      <td>-0.652146</td>\n",
       "    </tr>\n",
       "    <tr>\n",
       "      <th>...</th>\n",
       "      <td>...</td>\n",
       "      <td>...</td>\n",
       "      <td>...</td>\n",
       "      <td>...</td>\n",
       "      <td>...</td>\n",
       "      <td>...</td>\n",
       "      <td>...</td>\n",
       "      <td>...</td>\n",
       "      <td>...</td>\n",
       "    </tr>\n",
       "    <tr>\n",
       "      <th>66</th>\n",
       "      <td>0.156780</td>\n",
       "      <td>-0.573872</td>\n",
       "      <td>-0.335692</td>\n",
       "      <td>R</td>\n",
       "      <td>FIS</td>\n",
       "      <td>R96R</td>\n",
       "      <td>-0.599649</td>\n",
       "      <td>-0.614096</td>\n",
       "      <td>0.002843</td>\n",
       "    </tr>\n",
       "    <tr>\n",
       "      <th>67</th>\n",
       "      <td>0.065437</td>\n",
       "      <td>0.105485</td>\n",
       "      <td>-0.183075</td>\n",
       "      <td>R</td>\n",
       "      <td>FIS</td>\n",
       "      <td>R97R</td>\n",
       "      <td>-0.230045</td>\n",
       "      <td>-0.188244</td>\n",
       "      <td>0.230772</td>\n",
       "    </tr>\n",
       "    <tr>\n",
       "      <th>68</th>\n",
       "      <td>0.039873</td>\n",
       "      <td>-0.568414</td>\n",
       "      <td>0.205384</td>\n",
       "      <td>R</td>\n",
       "      <td>FIS</td>\n",
       "      <td>R92R</td>\n",
       "      <td>-0.641606</td>\n",
       "      <td>-0.060020</td>\n",
       "      <td>0.205691</td>\n",
       "    </tr>\n",
       "    <tr>\n",
       "      <th>69</th>\n",
       "      <td>-0.473582</td>\n",
       "      <td>0.394882</td>\n",
       "      <td>0.490315</td>\n",
       "      <td>NR</td>\n",
       "      <td>FIS</td>\n",
       "      <td>R103R</td>\n",
       "      <td>0.433912</td>\n",
       "      <td>-0.062188</td>\n",
       "      <td>0.257282</td>\n",
       "    </tr>\n",
       "    <tr>\n",
       "      <th>70</th>\n",
       "      <td>-0.345876</td>\n",
       "      <td>-0.427515</td>\n",
       "      <td>0.186776</td>\n",
       "      <td>R</td>\n",
       "      <td>FIS</td>\n",
       "      <td>R62R</td>\n",
       "      <td>-0.145531</td>\n",
       "      <td>-0.646110</td>\n",
       "      <td>-0.011806</td>\n",
       "    </tr>\n",
       "  </tbody>\n",
       "</table>\n",
       "<p>71 rows × 9 columns</p>\n",
       "</div>"
      ]
     },
     "execution_count": 5,
     "metadata": {},
     "output_type": "execute_result"
    }
   ],
   "execution_count": 5
  },
  {
   "metadata": {
    "ExecuteTime": {
     "end_time": "2025-04-28T15:19:00.383043Z",
     "start_time": "2025-04-28T15:19:00.380266Z"
    }
   },
   "cell_type": "code",
   "source": [
    "paths = {\n",
    "         'no_ucg': r\"C:\\Users\\sv24v923\\Desktop\\Sergio_GSVAsignatures\\RNAseq_signatures_GSVA_FIS.csv\"}"
   ],
   "id": "2c06b8f3d23e3bd",
   "outputs": [],
   "execution_count": 6
  },
  {
   "metadata": {
    "ExecuteTime": {
     "end_time": "2025-04-28T15:23:22.964901Z",
     "start_time": "2025-04-28T15:21:33.789638Z"
    }
   },
   "cell_type": "code",
   "source": [
    "parameters_path = r\"C:\\Users\\sv24v923\\PycharmProjects\\ML_Predicting_framework\\parameters\"\n",
    "\n",
    "for k,v in paths.items():\n",
    "    for model, variables in model_variables.items():\n",
    "        parameters['features'] = variables\n",
    "\n",
    "        with open(parameters_path, 'w') as json_file:\n",
    "            json.dump(parameters, json_file, indent=2)\n",
    "\n",
    "        sys.argv = [v, parameters_path]\n",
    "        main.main()\n",
    "\n",
    "        print(f\"Finished run for {model} {k} :)\")"
   ],
   "id": "d7e595128a03ae64",
   "outputs": [
    {
     "name": "stdout",
     "output_type": "stream",
     "text": [
      "Converted dictionary: {'target': 'Response', 'scaler': 'min_max', 'features': ['Top10up', 'Top10dn', 'WNT', 'KRT', 'EMC', 'GROWTH_FACTOR'], 'feature_selector': '', 'num_features': 10, 'encoder': 'one_hot', 'class_balancer': '', 'imputer': '', 'evaluation_technique': 'train_test', 'model': 'random_forest', 'enable_parameter_search': False, 'splitting_runs': 1000, 'bootstrap_runs': 100, 'plot_mean_roc': True, 'roc_color': '', 'output_folder': 'test_models'}\n",
      "--- Debug Info Before Split ---\n",
      "Type of y_to_split: <class 'pandas.core.series.Series'>\n",
      "Shape of y_to_split: (71,)\n",
      "------------------------------\n",
      "--- Debug Info After Split ---\n",
      "Type of y_train: <class 'pandas.core.series.Series'>\n",
      "Shape of y_train: (49,)\n",
      "Type of y_test: <class 'pandas.core.series.Series'>\n",
      "Shape of y_test: (22,)\n",
      "-----------------------------\n"
     ]
    },
    {
     "ename": "KeyboardInterrupt",
     "evalue": "",
     "output_type": "error",
     "traceback": [
      "\u001B[1;31m---------------------------------------------------------------------------\u001B[0m",
      "\u001B[1;31mKeyboardInterrupt\u001B[0m                         Traceback (most recent call last)",
      "Cell \u001B[1;32mIn[14], line 11\u001B[0m\n\u001B[0;32m      8\u001B[0m     json\u001B[38;5;241m.\u001B[39mdump(parameters, json_file, indent\u001B[38;5;241m=\u001B[39m\u001B[38;5;241m2\u001B[39m)\n\u001B[0;32m     10\u001B[0m sys\u001B[38;5;241m.\u001B[39margv \u001B[38;5;241m=\u001B[39m [v, parameters_path]\n\u001B[1;32m---> 11\u001B[0m \u001B[43mmain\u001B[49m\u001B[38;5;241;43m.\u001B[39;49m\u001B[43mmain\u001B[49m\u001B[43m(\u001B[49m\u001B[43m)\u001B[49m\n\u001B[0;32m     13\u001B[0m \u001B[38;5;28mprint\u001B[39m(\u001B[38;5;124mf\u001B[39m\u001B[38;5;124m\"\u001B[39m\u001B[38;5;124mFinished run for \u001B[39m\u001B[38;5;132;01m{\u001B[39;00mmodel\u001B[38;5;132;01m}\u001B[39;00m\u001B[38;5;124m \u001B[39m\u001B[38;5;132;01m{\u001B[39;00mk\u001B[38;5;132;01m}\u001B[39;00m\u001B[38;5;124m :)\u001B[39m\u001B[38;5;124m\"\u001B[39m)\n",
      "File \u001B[1;32m~\\PycharmProjects\\ML_Predicting_framework\\main.py:144\u001B[0m, in \u001B[0;36mmain\u001B[1;34m()\u001B[0m\n\u001B[0;32m    141\u001B[0m     \u001B[38;5;66;03m### MODEL TRAINING AND TESTING ###\u001B[39;00m\n\u001B[0;32m    143\u001B[0m     model_pipeline \u001B[38;5;241m=\u001B[39m ModelPipeline(local_parameters)\n\u001B[1;32m--> 144\u001B[0m     aux \u001B[38;5;241m=\u001B[39m \u001B[43mmodel_pipeline\u001B[49m\u001B[38;5;241;43m.\u001B[39;49m\u001B[43mrun\u001B[49m\u001B[43m(\u001B[49m\u001B[43m)\u001B[49m\n\u001B[0;32m    145\u001B[0m     output_dataframe \u001B[38;5;241m=\u001B[39m pd\u001B[38;5;241m.\u001B[39mconcat([output_dataframe, aux], ignore_index\u001B[38;5;241m=\u001B[39m\u001B[38;5;28;01mTrue\u001B[39;00m)\n\u001B[0;32m    147\u001B[0m \u001B[38;5;66;03m# Save the output dataframe to the specified folder\u001B[39;00m\n",
      "File \u001B[1;32m~\\PycharmProjects\\ML_Predicting_framework\\model\\ModelPipeline.py:50\u001B[0m, in \u001B[0;36mModelPipeline.run\u001B[1;34m(self)\u001B[0m\n\u001B[0;32m     48\u001B[0m \u001B[38;5;66;03m# We collect all the evaluation metrics from the trained model\u001B[39;00m\n\u001B[0;32m     49\u001B[0m evaluation_pipeline \u001B[38;5;241m=\u001B[39m EvaluationPipeline(model, \u001B[38;5;28mself\u001B[39m\u001B[38;5;241m.\u001B[39mparameters)\n\u001B[1;32m---> 50\u001B[0m evaluation_results \u001B[38;5;241m=\u001B[39m \u001B[43mevaluation_pipeline\u001B[49m\u001B[38;5;241;43m.\u001B[39;49m\u001B[43mevaluate\u001B[49m\u001B[43m(\u001B[49m\u001B[43m)\u001B[49m\n\u001B[0;32m     52\u001B[0m \u001B[38;5;28mself\u001B[39m\u001B[38;5;241m.\u001B[39mparameters[\u001B[38;5;124m'\u001B[39m\u001B[38;5;124mevaluation_results\u001B[39m\u001B[38;5;124m'\u001B[39m] \u001B[38;5;241m=\u001B[39m evaluation_results\n\u001B[0;32m     54\u001B[0m \u001B[38;5;66;03m# We generate a file containing all the details of this run\u001B[39;00m\n",
      "File \u001B[1;32m~\\PycharmProjects\\ML_Predicting_framework\\model\\evaluation\\EvaluationPipeline.py:32\u001B[0m, in \u001B[0;36mEvaluationPipeline.evaluate\u001B[1;34m(self)\u001B[0m\n\u001B[0;32m     30\u001B[0m \u001B[38;5;28;01mif\u001B[39;00m \u001B[38;5;28mself\u001B[39m\u001B[38;5;241m.\u001B[39mparameters[\u001B[38;5;124m'\u001B[39m\u001B[38;5;124mevaluation_technique\u001B[39m\u001B[38;5;124m'\u001B[39m] \u001B[38;5;241m==\u001B[39m \u001B[38;5;124m'\u001B[39m\u001B[38;5;124mtrain_test\u001B[39m\u001B[38;5;124m'\u001B[39m:\n\u001B[0;32m     31\u001B[0m     evaluation \u001B[38;5;241m=\u001B[39m TrainTest(\u001B[38;5;28mself\u001B[39m\u001B[38;5;241m.\u001B[39mparameters, \u001B[38;5;28mself\u001B[39m\u001B[38;5;241m.\u001B[39mmodel)\n\u001B[1;32m---> 32\u001B[0m     \u001B[38;5;28;01mreturn\u001B[39;00m \u001B[43mevaluation\u001B[49m\u001B[38;5;241;43m.\u001B[39;49m\u001B[43mevaluate\u001B[49m\u001B[43m(\u001B[49m\u001B[43m)\u001B[49m\n\u001B[0;32m     33\u001B[0m \u001B[38;5;28;01melif\u001B[39;00m \u001B[38;5;28mself\u001B[39m\u001B[38;5;241m.\u001B[39mparameters[\u001B[38;5;124m'\u001B[39m\u001B[38;5;124mevaluation_technique\u001B[39m\u001B[38;5;124m'\u001B[39m] \u001B[38;5;241m==\u001B[39m \u001B[38;5;124m'\u001B[39m\u001B[38;5;124m.632+\u001B[39m\u001B[38;5;124m'\u001B[39m:\n\u001B[0;32m     34\u001B[0m     evaluation \u001B[38;5;241m=\u001B[39m BootstrapPoint632(\u001B[38;5;28mself\u001B[39m\u001B[38;5;241m.\u001B[39mparameters)\n",
      "File \u001B[1;32m~\\PycharmProjects\\ML_Predicting_framework\\model\\evaluation\\TrainTest.py:50\u001B[0m, in \u001B[0;36mTrainTest.evaluate\u001B[1;34m(self)\u001B[0m\n\u001B[0;32m     46\u001B[0m     class_balancer \u001B[38;5;241m=\u001B[39m ClassBalancer(X_train, y_train,\n\u001B[0;32m     47\u001B[0m                                    \u001B[38;5;28mself\u001B[39m\u001B[38;5;241m.\u001B[39mparameters[\u001B[38;5;124m'\u001B[39m\u001B[38;5;124mclass_balancer\u001B[39m\u001B[38;5;124m'\u001B[39m], \u001B[38;5;28mself\u001B[39m\u001B[38;5;241m.\u001B[39mparameters[\u001B[38;5;124m'\u001B[39m\u001B[38;5;124mseed\u001B[39m\u001B[38;5;124m'\u001B[39m])\n\u001B[0;32m     48\u001B[0m     X_train, y_train \u001B[38;5;241m=\u001B[39m class_balancer\u001B[38;5;241m.\u001B[39mbalance_classes()\n\u001B[1;32m---> 50\u001B[0m model, feature_importances \u001B[38;5;241m=\u001B[39m \u001B[38;5;28;43mself\u001B[39;49m\u001B[38;5;241;43m.\u001B[39;49m\u001B[43minstantiate_model\u001B[49m\u001B[43m(\u001B[49m\u001B[43mX_train\u001B[49m\u001B[43m,\u001B[49m\u001B[43m \u001B[49m\u001B[43my_train\u001B[49m\u001B[43m,\u001B[49m\u001B[43m \u001B[49m\u001B[38;5;28;43mself\u001B[39;49m\u001B[38;5;241;43m.\u001B[39;49m\u001B[43mparameters\u001B[49m\u001B[43m[\u001B[49m\u001B[38;5;124;43m'\u001B[39;49m\u001B[38;5;124;43mmodel\u001B[39;49m\u001B[38;5;124;43m'\u001B[39;49m\u001B[43m]\u001B[49m\u001B[43m,\u001B[49m\u001B[43m \u001B[49m\u001B[38;5;28;43mself\u001B[39;49m\u001B[38;5;241;43m.\u001B[39;49m\u001B[43mparameters\u001B[49m\u001B[43m[\u001B[49m\u001B[38;5;124;43m'\u001B[39;49m\u001B[38;5;124;43mbest_params\u001B[39;49m\u001B[38;5;124;43m'\u001B[39;49m\u001B[43m]\u001B[49m\u001B[43m)\u001B[49m\n\u001B[0;32m     51\u001B[0m y_pred \u001B[38;5;241m=\u001B[39m model\u001B[38;5;241m.\u001B[39mpredict(X_test)\n\u001B[0;32m     52\u001B[0m y_pred_proba \u001B[38;5;241m=\u001B[39m model\u001B[38;5;241m.\u001B[39mpredict_proba(X_test)[:, \u001B[38;5;241m1\u001B[39m]\n",
      "File \u001B[1;32m~\\PycharmProjects\\ML_Predicting_framework\\model\\evaluation\\EvaluateModel.py:83\u001B[0m, in \u001B[0;36mEvaluateModel.instantiate_model\u001B[1;34m(self, X_train, y_train, model_type, params)\u001B[0m\n\u001B[0;32m     80\u001B[0m model_class \u001B[38;5;241m=\u001B[39m model_mapping[model_type]\n\u001B[0;32m     81\u001B[0m model \u001B[38;5;241m=\u001B[39m model_class(\u001B[38;5;241m*\u001B[39m\u001B[38;5;241m*\u001B[39m(params \u001B[38;5;129;01mor\u001B[39;00m {}))\n\u001B[1;32m---> 83\u001B[0m \u001B[43mmodel\u001B[49m\u001B[38;5;241;43m.\u001B[39;49m\u001B[43mfit\u001B[49m\u001B[43m(\u001B[49m\u001B[43mX_train\u001B[49m\u001B[43m,\u001B[49m\u001B[43m \u001B[49m\u001B[43my_train\u001B[49m\u001B[43m)\u001B[49m\n\u001B[0;32m     85\u001B[0m feature_names \u001B[38;5;241m=\u001B[39m X_train\u001B[38;5;241m.\u001B[39mcolumns\u001B[38;5;241m.\u001B[39mtolist()\n\u001B[0;32m     86\u001B[0m feature_importances \u001B[38;5;241m=\u001B[39m get_feature_importances(model, model_type, feature_names)\n",
      "File \u001B[1;32m~\\PycharmProjects\\ML_Predicting_framework\\.venv\\Lib\\site-packages\\sklearn\\base.py:1473\u001B[0m, in \u001B[0;36m_fit_context.<locals>.decorator.<locals>.wrapper\u001B[1;34m(estimator, *args, **kwargs)\u001B[0m\n\u001B[0;32m   1466\u001B[0m     estimator\u001B[38;5;241m.\u001B[39m_validate_params()\n\u001B[0;32m   1468\u001B[0m \u001B[38;5;28;01mwith\u001B[39;00m config_context(\n\u001B[0;32m   1469\u001B[0m     skip_parameter_validation\u001B[38;5;241m=\u001B[39m(\n\u001B[0;32m   1470\u001B[0m         prefer_skip_nested_validation \u001B[38;5;129;01mor\u001B[39;00m global_skip_validation\n\u001B[0;32m   1471\u001B[0m     )\n\u001B[0;32m   1472\u001B[0m ):\n\u001B[1;32m-> 1473\u001B[0m     \u001B[38;5;28;01mreturn\u001B[39;00m \u001B[43mfit_method\u001B[49m\u001B[43m(\u001B[49m\u001B[43mestimator\u001B[49m\u001B[43m,\u001B[49m\u001B[43m \u001B[49m\u001B[38;5;241;43m*\u001B[39;49m\u001B[43margs\u001B[49m\u001B[43m,\u001B[49m\u001B[43m \u001B[49m\u001B[38;5;241;43m*\u001B[39;49m\u001B[38;5;241;43m*\u001B[39;49m\u001B[43mkwargs\u001B[49m\u001B[43m)\u001B[49m\n",
      "File \u001B[1;32m~\\PycharmProjects\\ML_Predicting_framework\\.venv\\Lib\\site-packages\\sklearn\\ensemble\\_forest.py:489\u001B[0m, in \u001B[0;36mBaseForest.fit\u001B[1;34m(self, X, y, sample_weight)\u001B[0m\n\u001B[0;32m    478\u001B[0m trees \u001B[38;5;241m=\u001B[39m [\n\u001B[0;32m    479\u001B[0m     \u001B[38;5;28mself\u001B[39m\u001B[38;5;241m.\u001B[39m_make_estimator(append\u001B[38;5;241m=\u001B[39m\u001B[38;5;28;01mFalse\u001B[39;00m, random_state\u001B[38;5;241m=\u001B[39mrandom_state)\n\u001B[0;32m    480\u001B[0m     \u001B[38;5;28;01mfor\u001B[39;00m i \u001B[38;5;129;01min\u001B[39;00m \u001B[38;5;28mrange\u001B[39m(n_more_estimators)\n\u001B[0;32m    481\u001B[0m ]\n\u001B[0;32m    483\u001B[0m \u001B[38;5;66;03m# Parallel loop: we prefer the threading backend as the Cython code\u001B[39;00m\n\u001B[0;32m    484\u001B[0m \u001B[38;5;66;03m# for fitting the trees is internally releasing the Python GIL\u001B[39;00m\n\u001B[0;32m    485\u001B[0m \u001B[38;5;66;03m# making threading more efficient than multiprocessing in\u001B[39;00m\n\u001B[0;32m    486\u001B[0m \u001B[38;5;66;03m# that case. However, for joblib 0.12+ we respect any\u001B[39;00m\n\u001B[0;32m    487\u001B[0m \u001B[38;5;66;03m# parallel_backend contexts set at a higher level,\u001B[39;00m\n\u001B[0;32m    488\u001B[0m \u001B[38;5;66;03m# since correctness does not rely on using threads.\u001B[39;00m\n\u001B[1;32m--> 489\u001B[0m trees \u001B[38;5;241m=\u001B[39m \u001B[43mParallel\u001B[49m\u001B[43m(\u001B[49m\n\u001B[0;32m    490\u001B[0m \u001B[43m    \u001B[49m\u001B[43mn_jobs\u001B[49m\u001B[38;5;241;43m=\u001B[39;49m\u001B[38;5;28;43mself\u001B[39;49m\u001B[38;5;241;43m.\u001B[39;49m\u001B[43mn_jobs\u001B[49m\u001B[43m,\u001B[49m\n\u001B[0;32m    491\u001B[0m \u001B[43m    \u001B[49m\u001B[43mverbose\u001B[49m\u001B[38;5;241;43m=\u001B[39;49m\u001B[38;5;28;43mself\u001B[39;49m\u001B[38;5;241;43m.\u001B[39;49m\u001B[43mverbose\u001B[49m\u001B[43m,\u001B[49m\n\u001B[0;32m    492\u001B[0m \u001B[43m    \u001B[49m\u001B[43mprefer\u001B[49m\u001B[38;5;241;43m=\u001B[39;49m\u001B[38;5;124;43m\"\u001B[39;49m\u001B[38;5;124;43mthreads\u001B[39;49m\u001B[38;5;124;43m\"\u001B[39;49m\u001B[43m,\u001B[49m\n\u001B[0;32m    493\u001B[0m \u001B[43m\u001B[49m\u001B[43m)\u001B[49m\u001B[43m(\u001B[49m\n\u001B[0;32m    494\u001B[0m \u001B[43m    \u001B[49m\u001B[43mdelayed\u001B[49m\u001B[43m(\u001B[49m\u001B[43m_parallel_build_trees\u001B[49m\u001B[43m)\u001B[49m\u001B[43m(\u001B[49m\n\u001B[0;32m    495\u001B[0m \u001B[43m        \u001B[49m\u001B[43mt\u001B[49m\u001B[43m,\u001B[49m\n\u001B[0;32m    496\u001B[0m \u001B[43m        \u001B[49m\u001B[38;5;28;43mself\u001B[39;49m\u001B[38;5;241;43m.\u001B[39;49m\u001B[43mbootstrap\u001B[49m\u001B[43m,\u001B[49m\n\u001B[0;32m    497\u001B[0m \u001B[43m        \u001B[49m\u001B[43mX\u001B[49m\u001B[43m,\u001B[49m\n\u001B[0;32m    498\u001B[0m \u001B[43m        \u001B[49m\u001B[43my\u001B[49m\u001B[43m,\u001B[49m\n\u001B[0;32m    499\u001B[0m \u001B[43m        \u001B[49m\u001B[43msample_weight\u001B[49m\u001B[43m,\u001B[49m\n\u001B[0;32m    500\u001B[0m \u001B[43m        \u001B[49m\u001B[43mi\u001B[49m\u001B[43m,\u001B[49m\n\u001B[0;32m    501\u001B[0m \u001B[43m        \u001B[49m\u001B[38;5;28;43mlen\u001B[39;49m\u001B[43m(\u001B[49m\u001B[43mtrees\u001B[49m\u001B[43m)\u001B[49m\u001B[43m,\u001B[49m\n\u001B[0;32m    502\u001B[0m \u001B[43m        \u001B[49m\u001B[43mverbose\u001B[49m\u001B[38;5;241;43m=\u001B[39;49m\u001B[38;5;28;43mself\u001B[39;49m\u001B[38;5;241;43m.\u001B[39;49m\u001B[43mverbose\u001B[49m\u001B[43m,\u001B[49m\n\u001B[0;32m    503\u001B[0m \u001B[43m        \u001B[49m\u001B[43mclass_weight\u001B[49m\u001B[38;5;241;43m=\u001B[39;49m\u001B[38;5;28;43mself\u001B[39;49m\u001B[38;5;241;43m.\u001B[39;49m\u001B[43mclass_weight\u001B[49m\u001B[43m,\u001B[49m\n\u001B[0;32m    504\u001B[0m \u001B[43m        \u001B[49m\u001B[43mn_samples_bootstrap\u001B[49m\u001B[38;5;241;43m=\u001B[39;49m\u001B[43mn_samples_bootstrap\u001B[49m\u001B[43m,\u001B[49m\n\u001B[0;32m    505\u001B[0m \u001B[43m        \u001B[49m\u001B[43mmissing_values_in_feature_mask\u001B[49m\u001B[38;5;241;43m=\u001B[39;49m\u001B[43mmissing_values_in_feature_mask\u001B[49m\u001B[43m,\u001B[49m\n\u001B[0;32m    506\u001B[0m \u001B[43m    \u001B[49m\u001B[43m)\u001B[49m\n\u001B[0;32m    507\u001B[0m \u001B[43m    \u001B[49m\u001B[38;5;28;43;01mfor\u001B[39;49;00m\u001B[43m \u001B[49m\u001B[43mi\u001B[49m\u001B[43m,\u001B[49m\u001B[43m \u001B[49m\u001B[43mt\u001B[49m\u001B[43m \u001B[49m\u001B[38;5;129;43;01min\u001B[39;49;00m\u001B[43m \u001B[49m\u001B[38;5;28;43menumerate\u001B[39;49m\u001B[43m(\u001B[49m\u001B[43mtrees\u001B[49m\u001B[43m)\u001B[49m\n\u001B[0;32m    508\u001B[0m \u001B[43m\u001B[49m\u001B[43m)\u001B[49m\n\u001B[0;32m    510\u001B[0m \u001B[38;5;66;03m# Collect newly grown trees\u001B[39;00m\n\u001B[0;32m    511\u001B[0m \u001B[38;5;28mself\u001B[39m\u001B[38;5;241m.\u001B[39mestimators_\u001B[38;5;241m.\u001B[39mextend(trees)\n",
      "File \u001B[1;32m~\\PycharmProjects\\ML_Predicting_framework\\.venv\\Lib\\site-packages\\sklearn\\utils\\parallel.py:74\u001B[0m, in \u001B[0;36mParallel.__call__\u001B[1;34m(self, iterable)\u001B[0m\n\u001B[0;32m     69\u001B[0m config \u001B[38;5;241m=\u001B[39m get_config()\n\u001B[0;32m     70\u001B[0m iterable_with_config \u001B[38;5;241m=\u001B[39m (\n\u001B[0;32m     71\u001B[0m     (_with_config(delayed_func, config), args, kwargs)\n\u001B[0;32m     72\u001B[0m     \u001B[38;5;28;01mfor\u001B[39;00m delayed_func, args, kwargs \u001B[38;5;129;01min\u001B[39;00m iterable\n\u001B[0;32m     73\u001B[0m )\n\u001B[1;32m---> 74\u001B[0m \u001B[38;5;28;01mreturn\u001B[39;00m \u001B[38;5;28;43msuper\u001B[39;49m\u001B[43m(\u001B[49m\u001B[43m)\u001B[49m\u001B[38;5;241;43m.\u001B[39;49m\u001B[38;5;21;43m__call__\u001B[39;49m\u001B[43m(\u001B[49m\u001B[43miterable_with_config\u001B[49m\u001B[43m)\u001B[49m\n",
      "File \u001B[1;32m~\\PycharmProjects\\ML_Predicting_framework\\.venv\\Lib\\site-packages\\joblib\\parallel.py:1918\u001B[0m, in \u001B[0;36mParallel.__call__\u001B[1;34m(self, iterable)\u001B[0m\n\u001B[0;32m   1916\u001B[0m     output \u001B[38;5;241m=\u001B[39m \u001B[38;5;28mself\u001B[39m\u001B[38;5;241m.\u001B[39m_get_sequential_output(iterable)\n\u001B[0;32m   1917\u001B[0m     \u001B[38;5;28mnext\u001B[39m(output)\n\u001B[1;32m-> 1918\u001B[0m     \u001B[38;5;28;01mreturn\u001B[39;00m output \u001B[38;5;28;01mif\u001B[39;00m \u001B[38;5;28mself\u001B[39m\u001B[38;5;241m.\u001B[39mreturn_generator \u001B[38;5;28;01melse\u001B[39;00m \u001B[38;5;28;43mlist\u001B[39;49m\u001B[43m(\u001B[49m\u001B[43moutput\u001B[49m\u001B[43m)\u001B[49m\n\u001B[0;32m   1920\u001B[0m \u001B[38;5;66;03m# Let's create an ID that uniquely identifies the current call. If the\u001B[39;00m\n\u001B[0;32m   1921\u001B[0m \u001B[38;5;66;03m# call is interrupted early and that the same instance is immediately\u001B[39;00m\n\u001B[0;32m   1922\u001B[0m \u001B[38;5;66;03m# re-used, this id will be used to prevent workers that were\u001B[39;00m\n\u001B[0;32m   1923\u001B[0m \u001B[38;5;66;03m# concurrently finalizing a task from the previous call to run the\u001B[39;00m\n\u001B[0;32m   1924\u001B[0m \u001B[38;5;66;03m# callback.\u001B[39;00m\n\u001B[0;32m   1925\u001B[0m \u001B[38;5;28;01mwith\u001B[39;00m \u001B[38;5;28mself\u001B[39m\u001B[38;5;241m.\u001B[39m_lock:\n",
      "File \u001B[1;32m~\\PycharmProjects\\ML_Predicting_framework\\.venv\\Lib\\site-packages\\joblib\\parallel.py:1847\u001B[0m, in \u001B[0;36mParallel._get_sequential_output\u001B[1;34m(self, iterable)\u001B[0m\n\u001B[0;32m   1845\u001B[0m \u001B[38;5;28mself\u001B[39m\u001B[38;5;241m.\u001B[39mn_dispatched_batches \u001B[38;5;241m+\u001B[39m\u001B[38;5;241m=\u001B[39m \u001B[38;5;241m1\u001B[39m\n\u001B[0;32m   1846\u001B[0m \u001B[38;5;28mself\u001B[39m\u001B[38;5;241m.\u001B[39mn_dispatched_tasks \u001B[38;5;241m+\u001B[39m\u001B[38;5;241m=\u001B[39m \u001B[38;5;241m1\u001B[39m\n\u001B[1;32m-> 1847\u001B[0m res \u001B[38;5;241m=\u001B[39m \u001B[43mfunc\u001B[49m\u001B[43m(\u001B[49m\u001B[38;5;241;43m*\u001B[39;49m\u001B[43margs\u001B[49m\u001B[43m,\u001B[49m\u001B[43m \u001B[49m\u001B[38;5;241;43m*\u001B[39;49m\u001B[38;5;241;43m*\u001B[39;49m\u001B[43mkwargs\u001B[49m\u001B[43m)\u001B[49m\n\u001B[0;32m   1848\u001B[0m \u001B[38;5;28mself\u001B[39m\u001B[38;5;241m.\u001B[39mn_completed_tasks \u001B[38;5;241m+\u001B[39m\u001B[38;5;241m=\u001B[39m \u001B[38;5;241m1\u001B[39m\n\u001B[0;32m   1849\u001B[0m \u001B[38;5;28mself\u001B[39m\u001B[38;5;241m.\u001B[39mprint_progress()\n",
      "File \u001B[1;32m~\\PycharmProjects\\ML_Predicting_framework\\.venv\\Lib\\site-packages\\sklearn\\utils\\parallel.py:136\u001B[0m, in \u001B[0;36m_FuncWrapper.__call__\u001B[1;34m(self, *args, **kwargs)\u001B[0m\n\u001B[0;32m    134\u001B[0m     config \u001B[38;5;241m=\u001B[39m {}\n\u001B[0;32m    135\u001B[0m \u001B[38;5;28;01mwith\u001B[39;00m config_context(\u001B[38;5;241m*\u001B[39m\u001B[38;5;241m*\u001B[39mconfig):\n\u001B[1;32m--> 136\u001B[0m     \u001B[38;5;28;01mreturn\u001B[39;00m \u001B[38;5;28;43mself\u001B[39;49m\u001B[38;5;241;43m.\u001B[39;49m\u001B[43mfunction\u001B[49m\u001B[43m(\u001B[49m\u001B[38;5;241;43m*\u001B[39;49m\u001B[43margs\u001B[49m\u001B[43m,\u001B[49m\u001B[43m \u001B[49m\u001B[38;5;241;43m*\u001B[39;49m\u001B[38;5;241;43m*\u001B[39;49m\u001B[43mkwargs\u001B[49m\u001B[43m)\u001B[49m\n",
      "File \u001B[1;32m~\\PycharmProjects\\ML_Predicting_framework\\.venv\\Lib\\site-packages\\sklearn\\ensemble\\_forest.py:192\u001B[0m, in \u001B[0;36m_parallel_build_trees\u001B[1;34m(tree, bootstrap, X, y, sample_weight, tree_idx, n_trees, verbose, class_weight, n_samples_bootstrap, missing_values_in_feature_mask)\u001B[0m\n\u001B[0;32m    189\u001B[0m     \u001B[38;5;28;01melif\u001B[39;00m class_weight \u001B[38;5;241m==\u001B[39m \u001B[38;5;124m\"\u001B[39m\u001B[38;5;124mbalanced_subsample\u001B[39m\u001B[38;5;124m\"\u001B[39m:\n\u001B[0;32m    190\u001B[0m         curr_sample_weight \u001B[38;5;241m*\u001B[39m\u001B[38;5;241m=\u001B[39m compute_sample_weight(\u001B[38;5;124m\"\u001B[39m\u001B[38;5;124mbalanced\u001B[39m\u001B[38;5;124m\"\u001B[39m, y, indices\u001B[38;5;241m=\u001B[39mindices)\n\u001B[1;32m--> 192\u001B[0m     \u001B[43mtree\u001B[49m\u001B[38;5;241;43m.\u001B[39;49m\u001B[43m_fit\u001B[49m\u001B[43m(\u001B[49m\n\u001B[0;32m    193\u001B[0m \u001B[43m        \u001B[49m\u001B[43mX\u001B[49m\u001B[43m,\u001B[49m\n\u001B[0;32m    194\u001B[0m \u001B[43m        \u001B[49m\u001B[43my\u001B[49m\u001B[43m,\u001B[49m\n\u001B[0;32m    195\u001B[0m \u001B[43m        \u001B[49m\u001B[43msample_weight\u001B[49m\u001B[38;5;241;43m=\u001B[39;49m\u001B[43mcurr_sample_weight\u001B[49m\u001B[43m,\u001B[49m\n\u001B[0;32m    196\u001B[0m \u001B[43m        \u001B[49m\u001B[43mcheck_input\u001B[49m\u001B[38;5;241;43m=\u001B[39;49m\u001B[38;5;28;43;01mFalse\u001B[39;49;00m\u001B[43m,\u001B[49m\n\u001B[0;32m    197\u001B[0m \u001B[43m        \u001B[49m\u001B[43mmissing_values_in_feature_mask\u001B[49m\u001B[38;5;241;43m=\u001B[39;49m\u001B[43mmissing_values_in_feature_mask\u001B[49m\u001B[43m,\u001B[49m\n\u001B[0;32m    198\u001B[0m \u001B[43m    \u001B[49m\u001B[43m)\u001B[49m\n\u001B[0;32m    199\u001B[0m \u001B[38;5;28;01melse\u001B[39;00m:\n\u001B[0;32m    200\u001B[0m     tree\u001B[38;5;241m.\u001B[39m_fit(\n\u001B[0;32m    201\u001B[0m         X,\n\u001B[0;32m    202\u001B[0m         y,\n\u001B[1;32m   (...)\u001B[0m\n\u001B[0;32m    205\u001B[0m         missing_values_in_feature_mask\u001B[38;5;241m=\u001B[39mmissing_values_in_feature_mask,\n\u001B[0;32m    206\u001B[0m     )\n",
      "File \u001B[1;32m~\\PycharmProjects\\ML_Predicting_framework\\.venv\\Lib\\site-packages\\sklearn\\tree\\_classes.py:239\u001B[0m, in \u001B[0;36mBaseDecisionTree._fit\u001B[1;34m(self, X, y, sample_weight, check_input, missing_values_in_feature_mask)\u001B[0m\n\u001B[0;32m    231\u001B[0m \u001B[38;5;28;01mdef\u001B[39;00m\u001B[38;5;250m \u001B[39m\u001B[38;5;21m_fit\u001B[39m(\n\u001B[0;32m    232\u001B[0m     \u001B[38;5;28mself\u001B[39m,\n\u001B[0;32m    233\u001B[0m     X,\n\u001B[1;32m   (...)\u001B[0m\n\u001B[0;32m    237\u001B[0m     missing_values_in_feature_mask\u001B[38;5;241m=\u001B[39m\u001B[38;5;28;01mNone\u001B[39;00m,\n\u001B[0;32m    238\u001B[0m ):\n\u001B[1;32m--> 239\u001B[0m     random_state \u001B[38;5;241m=\u001B[39m \u001B[43mcheck_random_state\u001B[49m\u001B[43m(\u001B[49m\u001B[38;5;28;43mself\u001B[39;49m\u001B[38;5;241;43m.\u001B[39;49m\u001B[43mrandom_state\u001B[49m\u001B[43m)\u001B[49m\n\u001B[0;32m    241\u001B[0m     \u001B[38;5;28;01mif\u001B[39;00m check_input:\n\u001B[0;32m    242\u001B[0m         \u001B[38;5;66;03m# Need to validate separately here.\u001B[39;00m\n\u001B[0;32m    243\u001B[0m         \u001B[38;5;66;03m# We can't pass multi_output=True because that would allow y to be\u001B[39;00m\n\u001B[1;32m   (...)\u001B[0m\n\u001B[0;32m    246\u001B[0m         \u001B[38;5;66;03m# _compute_missing_values_in_feature_mask will check for finite values and\u001B[39;00m\n\u001B[0;32m    247\u001B[0m         \u001B[38;5;66;03m# compute the missing mask if the tree supports missing values\u001B[39;00m\n\u001B[0;32m    248\u001B[0m         check_X_params \u001B[38;5;241m=\u001B[39m \u001B[38;5;28mdict\u001B[39m(\n\u001B[0;32m    249\u001B[0m             dtype\u001B[38;5;241m=\u001B[39mDTYPE, accept_sparse\u001B[38;5;241m=\u001B[39m\u001B[38;5;124m\"\u001B[39m\u001B[38;5;124mcsc\u001B[39m\u001B[38;5;124m\"\u001B[39m, force_all_finite\u001B[38;5;241m=\u001B[39m\u001B[38;5;28;01mFalse\u001B[39;00m\n\u001B[0;32m    250\u001B[0m         )\n",
      "File \u001B[1;32m~\\PycharmProjects\\ML_Predicting_framework\\.venv\\Lib\\site-packages\\sklearn\\utils\\validation.py:1436\u001B[0m, in \u001B[0;36mcheck_random_state\u001B[1;34m(seed)\u001B[0m\n\u001B[0;32m   1434\u001B[0m     \u001B[38;5;28;01mreturn\u001B[39;00m np\u001B[38;5;241m.\u001B[39mrandom\u001B[38;5;241m.\u001B[39mmtrand\u001B[38;5;241m.\u001B[39m_rand\n\u001B[0;32m   1435\u001B[0m \u001B[38;5;28;01mif\u001B[39;00m \u001B[38;5;28misinstance\u001B[39m(seed, numbers\u001B[38;5;241m.\u001B[39mIntegral):\n\u001B[1;32m-> 1436\u001B[0m     \u001B[38;5;28;01mreturn\u001B[39;00m \u001B[43mnp\u001B[49m\u001B[38;5;241;43m.\u001B[39;49m\u001B[43mrandom\u001B[49m\u001B[38;5;241;43m.\u001B[39;49m\u001B[43mRandomState\u001B[49m\u001B[43m(\u001B[49m\u001B[43mseed\u001B[49m\u001B[43m)\u001B[49m\n\u001B[0;32m   1437\u001B[0m \u001B[38;5;28;01mif\u001B[39;00m \u001B[38;5;28misinstance\u001B[39m(seed, np\u001B[38;5;241m.\u001B[39mrandom\u001B[38;5;241m.\u001B[39mRandomState):\n\u001B[0;32m   1438\u001B[0m     \u001B[38;5;28;01mreturn\u001B[39;00m seed\n",
      "File \u001B[1;32mnumpy\\\\random\\\\mtrand.pyx:185\u001B[0m, in \u001B[0;36mnumpy.random.mtrand.RandomState.__init__\u001B[1;34m()\u001B[0m\n",
      "File \u001B[1;32m_mt19937.pyx:132\u001B[0m, in \u001B[0;36mnumpy.random._mt19937.MT19937.__init__\u001B[1;34m()\u001B[0m\n",
      "File \u001B[1;32m~\\PycharmProjects\\ML_Predicting_framework\\.venv\\Lib\\site-packages\\numpy\\_core\\_ufunc_config.py:479\u001B[0m, in \u001B[0;36merrstate.__call__.<locals>.inner\u001B[1;34m(*args, **kwargs)\u001B[0m\n\u001B[0;32m    476\u001B[0m _token \u001B[38;5;241m=\u001B[39m _extobj_contextvar\u001B[38;5;241m.\u001B[39mset(extobj)\n\u001B[0;32m    477\u001B[0m \u001B[38;5;28;01mtry\u001B[39;00m:\n\u001B[0;32m    478\u001B[0m     \u001B[38;5;66;03m# Call the original, decorated, function:\u001B[39;00m\n\u001B[1;32m--> 479\u001B[0m     \u001B[38;5;28;01mreturn\u001B[39;00m \u001B[43mfunc\u001B[49m\u001B[43m(\u001B[49m\u001B[38;5;241;43m*\u001B[39;49m\u001B[43margs\u001B[49m\u001B[43m,\u001B[49m\u001B[43m \u001B[49m\u001B[38;5;241;43m*\u001B[39;49m\u001B[38;5;241;43m*\u001B[39;49m\u001B[43mkwargs\u001B[49m\u001B[43m)\u001B[49m\n\u001B[0;32m    480\u001B[0m \u001B[38;5;28;01mfinally\u001B[39;00m:\n\u001B[0;32m    481\u001B[0m     _extobj_contextvar\u001B[38;5;241m.\u001B[39mreset(_token)\n",
      "\u001B[1;31mKeyboardInterrupt\u001B[0m: "
     ]
    }
   ],
   "execution_count": 14
  },
  {
   "metadata": {
    "ExecuteTime": {
     "end_time": "2025-01-24T10:30:13.087654Z",
     "start_time": "2025-01-24T10:30:12.771944Z"
    }
   },
   "cell_type": "code",
   "source": [
    "from PyInstaller.utils.hooks import collect_data_files\n",
    "import pprint\n",
    "\n",
    "xgboost_datas = collect_data_files('xgboost')\n",
    "pprint.pprint(xgboost_datas)"
   ],
   "id": "aaf23a6ee85a1c9c",
   "outputs": [
    {
     "name": "stdout",
     "output_type": "stream",
     "text": [
      "[('C:\\\\Users\\\\sv24v923\\\\PycharmProjects\\\\ML_Predicting_framework\\\\.venv\\\\Lib\\\\site-packages\\\\xgboost\\\\VERSION',\n",
      "  'xgboost'),\n",
      " ('C:\\\\Users\\\\sv24v923\\\\PycharmProjects\\\\ML_Predicting_framework\\\\.venv\\\\Lib\\\\site-packages\\\\xgboost\\\\py.typed',\n",
      "  'xgboost'),\n",
      " ('C:\\\\Users\\\\sv24v923\\\\PycharmProjects\\\\ML_Predicting_framework\\\\.venv\\\\Lib\\\\site-packages\\\\xgboost\\\\lib\\\\xgboost.dll',\n",
      "  'xgboost\\\\lib')]\n"
     ]
    }
   ],
   "execution_count": 1
  },
  {
   "metadata": {
    "ExecuteTime": {
     "end_time": "2025-01-24T10:36:34.426266Z",
     "start_time": "2025-01-24T10:36:32.279379Z"
    }
   },
   "cell_type": "code",
   "source": [
    "import xgboost\n",
    "\n",
    "xgboost.__version__"
   ],
   "id": "3c21b3064333f084",
   "outputs": [
    {
     "data": {
      "text/plain": [
       "'2.1.3'"
      ]
     },
     "execution_count": 3,
     "metadata": {},
     "output_type": "execute_result"
    }
   ],
   "execution_count": 3
  },
  {
   "metadata": {},
   "cell_type": "code",
   "outputs": [],
   "execution_count": null,
   "source": "set XGBOOST_VERSION=2.1.3",
   "id": "ed31673e765c4918"
  },
  {
   "metadata": {},
   "cell_type": "code",
   "outputs": [],
   "execution_count": null,
   "source": "main.exe \"C:\\Users\\sv24v923\\Downloads\\toy_logistic_regression_dataset.csv\" \"C:\\Users\\sv24v923\\PycharmProjects\\ML_Predicting_framework\\parameters\"",
   "id": "e420f5f2b6e8d98"
  },
  {
   "metadata": {},
   "cell_type": "code",
   "outputs": [],
   "execution_count": null,
   "source": [
    "try:\n",
    "    with open(arg2, \"r\") as json_file:\n",
    "        parameters = json.load(json_file)\n",
    "    if isinstance(parameters, dict):\n",
    "        print(\"Converted dictionary:\", parameters)\n",
    "    else:\n",
    "        print(\"The input is not a valid dictionary.\")\n",
    "except (ValueError, SyntaxError):\n",
    "    raise ValueError(\"Could not convert the parameters file to a dictionary.\")"
   ],
   "id": "251cb7baea2fde2d"
  }
 ],
 "metadata": {
  "kernelspec": {
   "display_name": "Python 3",
   "language": "python",
   "name": "python3"
  },
  "language_info": {
   "codemirror_mode": {
    "name": "ipython",
    "version": 2
   },
   "file_extension": ".py",
   "mimetype": "text/x-python",
   "name": "python",
   "nbconvert_exporter": "python",
   "pygments_lexer": "ipython2",
   "version": "2.7.6"
  }
 },
 "nbformat": 4,
 "nbformat_minor": 5
}
