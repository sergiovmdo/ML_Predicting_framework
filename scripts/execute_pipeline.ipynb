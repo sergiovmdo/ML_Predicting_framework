{
 "cells": [
  {
   "cell_type": "code",
   "id": "initial_id",
   "metadata": {
    "collapsed": true,
    "ExecuteTime": {
     "end_time": "2025-01-24T13:30:04.349972Z",
     "start_time": "2025-01-24T13:30:00.370416Z"
    }
   },
   "source": [
    "import pandas as pd\n",
    "import sys, subprocess, json\n",
    "import main\n",
    "import os"
   ],
   "outputs": [],
   "execution_count": 1
  },
  {
   "metadata": {
    "ExecuteTime": {
     "end_time": "2025-01-24T13:30:04.360751Z",
     "start_time": "2025-01-24T13:30:04.356163Z"
    }
   },
   "cell_type": "code",
   "source": [
    "parameters = {\n",
    "    \"target\": \"target\",\n",
    "    \"scaler\": \"min_max\",\n",
    "    \"features\": \"\",\n",
    "    \"feature_selector\": \"\",\n",
    "    \"num_features\": 5,\n",
    "    \"encoder\": \"one_hot\",\n",
    "    \"class_balancer\": \"\",\n",
    "    \"imputer\": \"simple_imputer\",\n",
    "    \"evaluation_technique\": 'train_test',\n",
    "    \"model\": \"logistic_regression\",\n",
    "    \"enable_parameter_search\": False,\n",
    "    \"splitting_runs\": 10,\n",
    "    \"bootstrap_runs\": 100,\n",
    "    \"plot_mean_roc\": True,\n",
    "    \"roc_color\": \"\",\n",
    "    \"parameters_grid\": {\"C\": [2,5], \"penalty\": [\"l1\", \"l2\"]},\n",
    "    \"output_folder\": \"test\"\n",
    "}"
   ],
   "id": "b0ac7b23ffc23519",
   "outputs": [],
   "execution_count": 2
  },
  {
   "metadata": {
    "ExecuteTime": {
     "end_time": "2025-01-24T13:30:04.614389Z",
     "start_time": "2025-01-24T13:30:04.610682Z"
    }
   },
   "cell_type": "code",
   "source": [
    "model_variables = {\"test\": [\"feature_1\", \"feature_2\", \"feature_3\", \"feature_4\", \"feature_5\", \"feature_6\", \"feature_7\", \"feature_8\"],\n",
    "                    }"
   ],
   "id": "ec8f58a4cbd9f373",
   "outputs": [],
   "execution_count": 3
  },
  {
   "metadata": {
    "ExecuteTime": {
     "end_time": "2025-01-24T13:30:04.629878Z",
     "start_time": "2025-01-24T13:30:04.626802Z"
    }
   },
   "cell_type": "code",
   "source": [
    "paths = {\n",
    "         'no_ucg': r\"C:\\Users\\sv24v923\\Downloads\\toy_logistic_regression_dataset.csv\"}"
   ],
   "id": "2c06b8f3d23e3bd",
   "outputs": [],
   "execution_count": 4
  },
  {
   "metadata": {
    "ExecuteTime": {
     "end_time": "2025-01-24T13:30:04.688315Z",
     "start_time": "2025-01-24T13:30:04.646358Z"
    }
   },
   "cell_type": "code",
   "source": [
    "import pandas as pd\n",
    "import numpy as np\n",
    "import random\n",
    "\n",
    "def read_and_introduce_nas(file_path, na_fraction=0.1):\n",
    "    \"\"\"\n",
    "    Reads a CSV file and introduces random NaN values into the dataframe.\n",
    "\n",
    "    Parameters:\n",
    "        file_path (str): Path to the CSV file.\n",
    "        na_fraction (float): Fraction of values to randomly replace with NaN (default: 10%).\n",
    "\n",
    "    Returns:\n",
    "        pd.DataFrame: DataFrame with NaN values introduced.\n",
    "    \"\"\"\n",
    "    # Read the CSV file\n",
    "    df = pd.read_csv(file_path)\n",
    "\n",
    "    # Determine the total number of values to replace with NaN\n",
    "    total_values = df.size\n",
    "    na_count = int(total_values * na_fraction)\n",
    "\n",
    "    # Generate random indices for NaN insertion\n",
    "    for _ in range(na_count):\n",
    "        # Randomly select a row and column to insert NaN\n",
    "        row_idx = random.randint(0, df.shape[0] - 1)\n",
    "        col_idx = random.randint(0, df.shape[1] - 1)\n",
    "\n",
    "        # Set the value at the selected index to NaN\n",
    "        df.iat[row_idx, col_idx] = np.nan\n",
    "\n",
    "    return df\n",
    "\n",
    "# Path to the CSV file\n",
    "paths = {\n",
    "    'no_ucg': r\"C:\\Users\\sv24v923\\Downloads\\toy_logistic_regression_dataset.csv\"\n",
    "}\n",
    "\n",
    "# Test the function\n",
    "csv_path = paths['no_ucg']\n",
    "data_with_nas = read_and_introduce_nas(csv_path, na_fraction=0.1)\n",
    "\n",
    "data_with_nas.to_csv(r\"C:\\Users\\sv24v923\\Downloads\\toy_logistic_regression_dataset_NAs.csv\", index=False)\n",
    "\n",
    "paths = {\n",
    "    'no_ucg': r\"C:\\Users\\sv24v923\\Downloads\\toy_logistic_regression_dataset_NAs.csv\"\n",
    "}"
   ],
   "id": "f4ab4ed9d2bc020f",
   "outputs": [],
   "execution_count": 5
  },
  {
   "metadata": {
    "ExecuteTime": {
     "end_time": "2025-01-24T13:30:07.813244Z",
     "start_time": "2025-01-24T13:30:06.895102Z"
    }
   },
   "cell_type": "code",
   "source": [
    "parameters_path = r\"C:\\Users\\sv24v923\\PycharmProjects\\ML_Predicting_framework\\parameters\"\n",
    "\n",
    "for k,v in paths.items():\n",
    "    for model, variables in model_variables.items():\n",
    "        parameters['features'] = variables\n",
    "\n",
    "        with open(parameters_path, 'w') as json_file:\n",
    "            json.dump(parameters, json_file, indent=2)\n",
    "\n",
    "        sys.argv = [v, parameters_path]\n",
    "        main.main()\n",
    "\n",
    "        print(f\"Finished run for {model} {k} :)\")"
   ],
   "id": "d7e595128a03ae64",
   "outputs": [
    {
     "name": "stdout",
     "output_type": "stream",
     "text": [
      "Converted dictionary: {'target': 'target', 'scaler': 'min_max', 'features': ['feature_1', 'feature_2', 'feature_3', 'feature_4', 'feature_5', 'feature_6', 'feature_7', 'feature_8'], 'feature_selector': '', 'num_features': 5, 'encoder': 'one_hot', 'class_balancer': '', 'imputer': 'simple_imputer', 'evaluation_technique': 'train_test', 'model': 'logistic_regression', 'enable_parameter_search': False, 'splitting_runs': 10, 'bootstrap_runs': 100, 'plot_mean_roc': True, 'roc_color': '', 'parameters_grid': {'C': [2, 5], 'penalty': ['l1', 'l2']}, 'output_folder': 'test'}\n",
      "Fitting 15 folds for each of 4 candidates, totalling 60 fits\n"
     ]
    },
    {
     "name": "stderr",
     "output_type": "stream",
     "text": [
      "C:\\Users\\sv24v923\\PycharmProjects\\ML_Predicting_framework\\.venv\\Lib\\site-packages\\sklearn\\model_selection\\_validation.py:540: FitFailedWarning: \n",
      "30 fits failed out of a total of 60.\n",
      "The score on these train-test partitions for these parameters will be set to nan.\n",
      "If these failures are not expected, you can try to debug them by setting error_score='raise'.\n",
      "\n",
      "Below are more details about the failures:\n",
      "--------------------------------------------------------------------------------\n",
      "30 fits failed with the following error:\n",
      "Traceback (most recent call last):\n",
      "  File \"C:\\Users\\sv24v923\\PycharmProjects\\ML_Predicting_framework\\.venv\\Lib\\site-packages\\sklearn\\model_selection\\_validation.py\", line 888, in _fit_and_score\n",
      "    estimator.fit(X_train, y_train, **fit_params)\n",
      "    ~~~~~~~~~~~~~^^^^^^^^^^^^^^^^^^^^^^^^^^^^^^^^\n",
      "  File \"C:\\Users\\sv24v923\\PycharmProjects\\ML_Predicting_framework\\.venv\\Lib\\site-packages\\sklearn\\base.py\", line 1473, in wrapper\n",
      "    return fit_method(estimator, *args, **kwargs)\n",
      "  File \"C:\\Users\\sv24v923\\PycharmProjects\\ML_Predicting_framework\\.venv\\Lib\\site-packages\\sklearn\\linear_model\\_logistic.py\", line 1194, in fit\n",
      "    solver = _check_solver(self.solver, self.penalty, self.dual)\n",
      "  File \"C:\\Users\\sv24v923\\PycharmProjects\\ML_Predicting_framework\\.venv\\Lib\\site-packages\\sklearn\\linear_model\\_logistic.py\", line 67, in _check_solver\n",
      "    raise ValueError(\n",
      "    ...<2 lines>...\n",
      "    )\n",
      "ValueError: Solver lbfgs supports only 'l2' or None penalties, got l1 penalty.\n",
      "\n",
      "  warnings.warn(some_fits_failed_message, FitFailedWarning)\n",
      "C:\\Users\\sv24v923\\PycharmProjects\\ML_Predicting_framework\\.venv\\Lib\\site-packages\\sklearn\\model_selection\\_search.py:1103: UserWarning: One or more of the test scores are non-finite: [       nan 0.83215385        nan 0.83254701]\n",
      "  warnings.warn(\n",
      "C:\\Users\\sv24v923\\PycharmProjects\\ML_Predicting_framework\\.venv\\Lib\\site-packages\\scipy\\interpolate\\_interpolate.py:479: RuntimeWarning: divide by zero encountered in divide\n",
      "  slope = (y_hi - y_lo) / (x_hi - x_lo)[:, None]\n",
      "C:\\Users\\sv24v923\\PycharmProjects\\ML_Predicting_framework\\.venv\\Lib\\site-packages\\scipy\\interpolate\\_interpolate.py:482: RuntimeWarning: invalid value encountered in multiply\n",
      "  y_new = slope*(x_new - x_lo)[:, None] + y_lo\n"
     ]
    },
    {
     "name": "stdout",
     "output_type": "stream",
     "text": [
      "Finished run for test no_ucg :)\n"
     ]
    },
    {
     "data": {
      "text/plain": [
       "<Figure size 800x800 with 1 Axes>"
      ],
      "image/png": "[encoded data removed]"
     },
     "metadata": {},
     "output_type": "display_data"
    }
   ],
   "execution_count": 6
  },
  {
   "metadata": {
    "ExecuteTime": {
     "end_time": "2025-01-24T10:30:13.087654Z",
     "start_time": "2025-01-24T10:30:12.771944Z"
    }
   },
   "cell_type": "code",
   "source": [
    "from PyInstaller.utils.hooks import collect_data_files\n",
    "import pprint\n",
    "\n",
    "xgboost_datas = collect_data_files('xgboost')\n",
    "pprint.pprint(xgboost_datas)"
   ],
   "id": "aaf23a6ee85a1c9c",
   "outputs": [
    {
     "name": "stdout",
     "output_type": "stream",
     "text": [
      "[('C:\\\\Users\\\\sv24v923\\\\PycharmProjects\\\\ML_Predicting_framework\\\\.venv\\\\Lib\\\\site-packages\\\\xgboost\\\\VERSION',\n",
      "  'xgboost'),\n",
      " ('C:\\\\Users\\\\sv24v923\\\\PycharmProjects\\\\ML_Predicting_framework\\\\.venv\\\\Lib\\\\site-packages\\\\xgboost\\\\py.typed',\n",
      "  'xgboost'),\n",
      " ('C:\\\\Users\\\\sv24v923\\\\PycharmProjects\\\\ML_Predicting_framework\\\\.venv\\\\Lib\\\\site-packages\\\\xgboost\\\\lib\\\\xgboost.dll',\n",
      "  'xgboost\\\\lib')]\n"
     ]
    }
   ],
   "execution_count": 1
  },
  {
   "metadata": {
    "ExecuteTime": {
     "end_time": "2025-01-24T10:36:34.426266Z",
     "start_time": "2025-01-24T10:36:32.279379Z"
    }
   },
   "cell_type": "code",
   "source": [
    "import xgboost\n",
    "\n",
    "xgboost.__version__"
   ],
   "id": "3c21b3064333f084",
   "outputs": [
    {
     "data": {
      "text/plain": [
       "'2.1.3'"
      ]
     },
     "execution_count": 3,
     "metadata": {},
     "output_type": "execute_result"
    }
   ],
   "execution_count": 3
  },
  {
   "metadata": {},
   "cell_type": "code",
   "outputs": [],
   "execution_count": null,
   "source": "set XGBOOST_VERSION=2.1.3",
   "id": "ed31673e765c4918"
  },
  {
   "metadata": {},
   "cell_type": "code",
   "outputs": [],
   "execution_count": null,
   "source": "main.exe \"C:\\Users\\sv24v923\\Downloads\\toy_logistic_regression_dataset.csv\" \"C:\\Users\\sv24v923\\PycharmProjects\\ML_Predicting_framework\\parameters\"",
   "id": "e420f5f2b6e8d98"
  },
  {
   "metadata": {},
   "cell_type": "code",
   "outputs": [],
   "execution_count": null,
   "source": [
    "try:\n",
    "    with open(arg2, \"r\") as json_file:\n",
    "        parameters = json.load(json_file)\n",
    "    if isinstance(parameters, dict):\n",
    "        print(\"Converted dictionary:\", parameters)\n",
    "    else:\n",
    "        print(\"The input is not a valid dictionary.\")\n",
    "except (ValueError, SyntaxError):\n",
    "    raise ValueError(\"Could not convert the parameters file to a dictionary.\")"
   ],
   "id": "251cb7baea2fde2d"
  }
 ],
 "metadata": {
  "kernelspec": {
   "display_name": "Python 3",
   "language": "python",
   "name": "python3"
  },
  "language_info": {
   "codemirror_mode": {
    "name": "ipython",
    "version": 2
   },
   "file_extension": ".py",
   "mimetype": "text/x-python",
   "name": "python",
   "nbconvert_exporter": "python",
   "pygments_lexer": "ipython2",
   "version": "2.7.6"
  }
 },
 "nbformat": 4,
 "nbformat_minor": 5
}
